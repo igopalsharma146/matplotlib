{
 "cells": [
  {
   "cell_type": "code",
   "execution_count": 5,
   "id": "309efea8-1965-440d-aa82-6221cbf87d59",
   "metadata": {},
   "outputs": [
    {
     "name": "stdout",
     "output_type": "stream",
     "text": [
      "[52 24 15 54 21 59 29 33 55 10 52 36 37 56 28 24 46 36 10 44 50 14 48 59\n",
      " 45 56 41 17 38 18 45 19 58 34 48 15 44 24 31 29 35 43 49 23 24 21 23 31\n",
      " 36 44]\n"
     ]
    }
   ],
   "source": [
    "import matplotlib.pyplot as plt\n",
    "import numpy as np\n",
    "import random\n",
    "\n",
    "x=np.random.randint(10,60,50)\n",
    "print(x)"
   ]
  },
  {
   "cell_type": "code",
   "execution_count": 40,
   "id": "f427459b-4496-4dc5-b671-594f270bea18",
   "metadata": {},
   "outputs": [
    {
     "data": {
      "image/png": "[encoded data removed]",
      "text/plain": [
       "<Figure size 640x480 with 1 Axes>"
      ]
     },
     "metadata": {},
     "output_type": "display_data"
    }
   ],
   "source": [
    "no=[39, 48, 36, 10, 18, 56, 17 ,10 ,59 ,13 ,39 ,42 ,15 ,42 ,50, 38, 14, 16, 51, 31, 49 ,28 ,52, 27,\n",
    " 15, 28, 28, 23, 57 ,33 ,36, 27 ,29 ,27 ,21, 47 ,27 ,20 ,57 ,50 ,43 ,12 ,22 ,19 ,59 ,12 ,46 ,37,\n",
    " 12, 53]\n",
    "# plt.hist(no,color=\"r\",edgecolor=\"black\")\n",
    "\n",
    "#using bins parameter for collecting our data in perticular range\n",
    "# l=[10,20,30,40,50,60]\n",
    "# plt.hist(no,color=\"r\",edgecolor=\"black\",bins=l)\n",
    "\n",
    "#using bins parameter for collecting our data in perticular range\n",
    "# plt.hist(no,\"auto\",(0,100),color=\"r\",edgecolor=\"black\")\n",
    "\n",
    "#cumulative parameter ko -1 karne per wah frequency ko reverse kar deta hai.\n",
    "# plt.hist(no,\"auto\",(0,100),color=\"r\",edgecolor=\"black\",cumulative=-1)\n",
    "\n",
    "#hum yaha per bottom parameter bhi de sakte hai.\n",
    "# plt.hist(no,color=\"r\",edgecolor=\"black\",bottom=20)\n",
    "\n",
    "#align parameter (left,right,mid)\n",
    "# plt.hist(no,color=\"r\",edgecolor=\"black\",align=\"left\")\n",
    "\n",
    "#changing the type of histograph\n",
    "# plt.hist(no,color=\"r\",edgecolor=\"black\",histtype=\"bar\")\n",
    "# plt.hist(no,color=\"r\",edgecolor=\"black\",histtype=\"step\")\n",
    "\n",
    "#changing the orientation(by default verticle hoti hai.)\n",
    "# plt.hist(no,color=\"r\",edgecolor=\"black\",orientation=\"horizontal\")\n",
    "\n",
    "#changing the width\n",
    "# plt.hist(no,color=\"r\",edgecolor=\"black\",rwidth=.8,align=\"left\")\n",
    "\n",
    "#converting the table into log ki lable\n",
    "# plt.hist(no,color=\"r\",edgecolor=\"black\",log=True)\n",
    "\n",
    "#hum yaha per label bhi de sakte hai\n",
    "plt.hist(no,color=\"r\",edgecolor=\"black\",label=\"Python\")\n",
    "\n",
    "#giving the axvline (axvline ke throw hum important or unimportant data ko alg alg kar sakte hai.)\n",
    "plt.axvline(48,label=\"Line\")\n",
    "\n",
    "plt.title(\"wscube\")\n",
    "plt.xlabel(\"python\")\n",
    "plt.ylabel(\"No.\")\n",
    "plt.legend()\n",
    "\n",
    "# plt.grid()\n",
    "plt.show()"
   ]
  },
  {
   "cell_type": "code",
   "execution_count": null,
   "id": "73b58a23-0000-4004-9918-0d5b05b4b6f8",
   "metadata": {},
   "outputs": [],
   "source": []
  }
 ],
 "metadata": {
  "kernelspec": {
   "display_name": "Python 3 (ipykernel)",
   "language": "python",
   "name": "python3"
  },
  "language_info": {
   "codemirror_mode": {
    "name": "ipython",
    "version": 3
   },
   "file_extension": ".py",
   "mimetype": "text/x-python",
   "name": "python",
   "nbconvert_exporter": "python",
   "pygments_lexer": "ipython3",
   "version": "3.12.2"
  }
 },
 "nbformat": 4,
 "nbformat_minor": 5
}
